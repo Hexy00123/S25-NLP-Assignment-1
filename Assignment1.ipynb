{
  "cells": [
    {
      "cell_type": "markdown",
      "metadata": {
        "id": "DIgM6C9HYUhm"
      },
      "source": [
        "# Context-sensitive Spelling Correction\n",
        "\n",
        "The goal of the assignment is to implement context-sensitive spelling correction. The input of the code will be a set of text lines and the output will be the same lines with spelling mistakes fixed.\n",
        "\n",
        "Submit the solution of the assignment to Moodle as a link to your GitHub repository containing this notebook.\n",
        "\n",
        "Useful links:\n",
        "- [Norvig's solution](https://norvig.com/spell-correct.html)\n",
        "- [Norvig's dataset](https://norvig.com/big.txt)\n",
        "- [Ngrams data](https://www.ngrams.info/download_coca.asp)\n",
        "\n",
        "Grading:\n",
        "- 60 points - Implement spelling correction\n",
        "- 20 points - Justify your decisions\n",
        "- 20 points - Evaluate on a test set\n"
      ]
    },
    {
      "cell_type": "markdown",
      "metadata": {
        "id": "x-vb8yFOGRDF"
      },
      "source": [
        "## Implement context-sensitive spelling correction\n",
        "\n",
        "Your task is to implement context-sensitive spelling corrector using N-gram language model. The idea is to compute conditional probabilities of possible correction options. For example, the phrase \"dking sport\" should be fixed as \"doing sport\" not \"dying sport\", while \"dking species\" -- as \"dying species\".\n",
        "\n",
        "The best way to start is to analyze [Norvig's solution](https://norvig.com/spell-correct.html) and [N-gram Language Models](https://web.stanford.edu/~jurafsky/slp3/3.pdf).\n",
        "\n",
        "When solving this task, we expect you'll face (and successfully deal with) some problems or make up the ideas of the model improvement. Some of them are: \n",
        "\n",
        "- solving a problem of n-grams frequencies storing for a large corpus;\n",
        "- taking into account keyboard layout and associated misspellings;\n",
        "- efficiency improvement to make the solution faster;\n",
        "- ...\n",
        "\n",
        "Please don't forget to describe such cases, and what you decided to do with them, in the Justification section.\n",
        "\n",
        "##### IMPORTANT:  \n",
        "Your project should not be a mere code copy-paste from somewhere. You must provide:\n",
        "- Your implementation\n",
        "- Analysis of why the implemented approach is suggested\n",
        "- Improvements of the original approach that you have chosen to implement"
      ]
    },
    {
      "cell_type": "markdown",
      "metadata": {
        "id": "oML-5sJwGRLE"
      },
      "source": [
        "## Justify your decisions\n",
        "\n",
        "Write down justificaitons for your implementation choices. For example, these choices could be:\n",
        "- Which ngram dataset to use\n",
        "- Which weights to assign for edit1, edit2 or absent words probabilities\n",
        "- Beam search parameters\n",
        "- etc."
      ]
    },
    {
      "cell_type": "markdown",
      "metadata": {
        "id": "6Xb_twOmVsC6"
      },
      "source": [
        "*Your text here...*"
      ]
    },
    {
      "cell_type": "markdown",
      "metadata": {
        "id": "46rk65S4GRSe"
      },
      "source": [
        "## Evaluate on a test set\n",
        "\n",
        "Your task is to generate a test set and evaluate your work. You may vary the noise probability to generate different datasets with varying compexity (or just take another dataset). Compare your solution to the Norvig's corrector, and report the accuracies."
      ]
    },
    {
      "cell_type": "markdown",
      "metadata": {},
      "source": [
        "#### Useful resources (also included in the archive in moodle):\n",
        "\n",
        "1. [Possible dataset with N-grams](https://www.ngrams.info/download_coca.asp)\n",
        "2. [Damerau–Levenshtein distance](https://en.wikipedia.org/wiki/Damerau–Levenshtein_distance#:~:text=Informally%2C%20the%20Damerau–Levenshtein%20distance,one%20word%20into%20the%20other.)"
      ]
    },
    {
      "cell_type": "markdown",
      "metadata": {},
      "source": [
        "# Solution:\n",
        "\n",
        "To implement this assignment and both improve provided baseline in term of metric (accuracy) I've decided to take Rust as main programming language, because: \n",
        "- it is fast (comparable and sometimes faster than C lang due to compiler optimisations)\n",
        "- does not have GIL -> can be parralelized via multithreading\n",
        "- Rust code can be easily adapted for python \n",
        "\n",
        "90% if implementation of this assignment is written in rust, but as you can see in further cells, we can use/run that code as it is written in python, so you can rely on method names. **But you can also find the implementation in the spelling_corrector/src/lib.rs file.**\n",
        "\n",
        "### Implementation details: \n",
        "Implementation consists of 2 main parts: \n",
        "1) Levenshtain distance (string_distance in rust impl.): \n",
        "    I have implemented it as in a wiki page describing this algorithm, so just O(m x n) time complexity. \n",
        "    There also been tried the Damerau-Levenshtain distance, but it performed a bit worse.\n",
        "\n",
        "2) Spelling correction system that implements many methods for searching similar words: <br>\n",
        "        **Fields:** <br>\n",
        "        n_grams <br> \n",
        "        stores all sizes of ngrams, that passed by user, can be threated as hyperparameter <br><br>\n",
        "        n_grams_map <br> \n",
        "        stores all ngrams found in train dataset <br> <br>\n",
        "        word_to_index <br> \n",
        "        converts each known word to its unique index, helps save memory <br> <br>\n",
        "        index_to_word <br> \n",
        "        converts index to word's string representation <br><br>\n",
        "        coocurrence_matrix <br> \n",
        "        keeps track of counts of 2 words occur in the same context, context is defined as in word2vec (window of some size) <br> <br>\n",
        "        context_window <br> \n",
        "        defines context window size <br> <br>\n",
        "        occurences <br> \n",
        "        keeps number of times of each word occured in train dataset <br> <br>\n",
        "\n",
        "    **Methods:** \n",
        "            get_search_space: <br>\n",
        "            takes: word, number of candidates to return, word context <br>>\n",
        "            If word presents in the system, then it returns it. But if it is not, the following pipeline applied: <br>\n",
        "            - build word ngrams<br>\n",
        "            - get all words that has such ngrams<br>\n",
        "            - compute string distances with original word<br>\n",
        "            - compute probability of occuring candidate in context by $P(word|context) = \\frac{\\sum{word \\&}{context\\_word_i}}{word\\_counts}$<br>  \n",
        "            - return N (passed as parameter) candidate words and their fit score, then I select top 1 of them\n",
        "\n",
        "    Under the hood there are many parralel operations to make it work fast, and some other optimisations, for example: if the candidate differs too much from misspelled word, we simply ignore context, as computing it costs O(dictionary) operations. "
      ]
    },
    {
      "cell_type": "code",
      "execution_count": 1,
      "metadata": {},
      "outputs": [
        {
          "name": "stdout",
          "output_type": "stream",
          "text": [
            "Fethcing...\n",
            "Fetched.\n",
            "Preproces...\n",
            "Done.\n",
            "Words extracted: 1067521\n"
          ]
        },
        {
          "data": {
            "text/plain": [
              "Text(0.5, 1.0, 'Words len distriubution')"
            ]
          },
          "execution_count": 1,
          "metadata": {},
          "output_type": "execute_result"
        },
        {
          "data": {
            "image/png": "[encoded data removed]",
            "text/plain": [
              "<Figure size 640x480 with 1 Axes>"
            ]
          },
          "metadata": {},
          "output_type": "display_data"
        }
      ],
      "source": [
        "import requests\n",
        "import seaborn as sns\n",
        "import matplotlib.pyplot as plt\n",
        "\n",
        "\n",
        "print('Fethcing...')\n",
        "raw_data = requests.get('https://norvig.com/big.txt').text\n",
        "print('Fetched.\\nPreproces...')\n",
        "data = raw_data.lower()\n",
        "# remove punkt\n",
        "data = map(lambda x: x if (x.isalpha() or x.isspace()) else \" \", data)\n",
        "# collect symbols\n",
        "data = \"\".join(data).split()\n",
        "# extract words, filter out 1 letter words\n",
        "data = list(filter(lambda x: len(x) > 1, data))\n",
        "print(f'Done.\\nWords extracted: {len(data)}')\n",
        "sns.histplot(list(map(len, data)))\n",
        "plt.title('Words len distriubution')"
      ]
    },
    {
      "cell_type": "markdown",
      "metadata": {},
      "source": [
        "#### Interface to interact with system is adapdet to python "
      ]
    },
    {
      "cell_type": "code",
      "execution_count": 2,
      "metadata": {},
      "outputs": [],
      "source": [
        "from spelling_corrector import SpellingCorrectionSystem\n",
        "\n",
        "\n",
        "system = SpellingCorrectionSystem(n_grams=[1, 2, 3, 4, 5, 6], \n",
        "                                                                dictionary=data,  \n",
        "                                                                context_window=5)"
      ]
    },
    {
      "cell_type": "code",
      "execution_count": 3,
      "metadata": {},
      "outputs": [],
      "source": [
        "def test(spelling_corrector, dataset: list[dict['correct': str, 'misspelled': str, 'context': list[str]]]): \n",
        "    correct = 0\n",
        "    \n",
        "    for pair in dataset:\n",
        "        responce = spelling_corrector.get_search_space(pair['misspelled'], 30, context=pair['context']) \n",
        "        correction = sorted(map(lambda x: x, responce), key=lambda x: x[1][1] * (len(x[0]) - x[1][0]), reverse=True)\n",
        "        \n",
        "        if correction[0][0] == pair['correct']:\n",
        "            correct += 1\n",
        "            \n",
        "    return correct / len(dataset)  * 100"
      ]
    },
    {
      "cell_type": "markdown",
      "metadata": {},
      "source": [
        "#### Preparing the test dataset & enrichment with context"
      ]
    },
    {
      "cell_type": "code",
      "execution_count": 4,
      "metadata": {},
      "outputs": [],
      "source": [
        "from time import time\n",
        "\n",
        "def get_dataset(filename): \n",
        "    test_dataset: list[dict['correct': str, 'misspelled': str]] = [] \n",
        "    with open(filename) as file: \n",
        "        for line in file.readlines(): \n",
        "            correct, misspells = line.split(':')\n",
        "            \n",
        "            for misspelled in misspells.split():\n",
        "                context_words = [word for word, stat in system.get_context(correct.strip())] \n",
        "                \n",
        "                test_dataset.append({\n",
        "                    'correct': correct.strip(), \n",
        "                    'misspelled': misspelled.strip(), \n",
        "                    'context': context_words,\n",
        "                })\n",
        "        return test_dataset"
      ]
    },
    {
      "cell_type": "markdown",
      "metadata": {},
      "source": [
        "#### Evaluation on eval dataset"
      ]
    },
    {
      "cell_type": "code",
      "execution_count": 5,
      "metadata": {},
      "outputs": [
        {
          "name": "stdout",
          "output_type": "stream",
          "text": [
            "score = 90.74074074074075\n",
            "wps = 252.56\n"
          ]
        }
      ],
      "source": [
        "val_dataset = get_dataset('spell-testset1.txt')\n",
        "\n",
        "wps = [] \n",
        "for _ in range(5):\n",
        "    s = time()\n",
        "    score = test(system, val_dataset)\n",
        "    e = time()\n",
        "    wps.append(len(val_dataset) / (e - s))\n",
        "\n",
        "print(f'{score = }')\n",
        "print(f'wps = {round(max(wps), 2)}')"
      ]
    },
    {
      "cell_type": "markdown",
      "metadata": {},
      "source": [
        "#### Evaluation on test dataset"
      ]
    },
    {
      "cell_type": "code",
      "execution_count": 6,
      "metadata": {},
      "outputs": [
        {
          "name": "stdout",
          "output_type": "stream",
          "text": [
            "score = 82.25\n",
            "wps = 239.03\n"
          ]
        }
      ],
      "source": [
        "test_dataset = get_dataset('spell-testset2.txt')\n",
        "\n",
        "wps = [] \n",
        "for _ in range(5):\n",
        "    s = time()\n",
        "    score = test(system, test_dataset)\n",
        "    e = time()\n",
        "    wps.append(len(test_dataset) / (e - s))\n",
        "\n",
        "print(f'{score = }')\n",
        "print(f'wps = {round(max(wps), 2)}')"
      ]
    },
    {
      "cell_type": "markdown",
      "metadata": {},
      "source": [
        "### Results\n",
        "\n",
        "My implementation of the system achieved 90.7% accuracy score on the validation dataset and 82.0%, while baseline has 75% and 68% respectively. Also, the running time is 6-8~ times faster. As baseline can work at 35-41 words per second, while my solution works on 239-252 wps.\n",
        "\n",
        "In the test_performance.ipynb file you can also find my experiments of implementing & testing Damerau-Levenshtain distance in Python, Rust in C adapted to be called from python code. Their implementation is in the damerau_c & spelling_corrector repository folders.  "
      ]
    }
  ],
  "metadata": {
    "colab": {
      "provenance": []
    },
    "kernelspec": {
      "display_name": "Python 3",
      "name": "python3"
    },
    "language_info": {
      "codemirror_mode": {
        "name": "ipython",
        "version": 3
      },
      "file_extension": ".py",
      "mimetype": "text/x-python",
      "name": "python",
      "nbconvert_exporter": "python",
      "pygments_lexer": "ipython3",
      "version": "3.12.7"
    }
  },
  "nbformat": 4,
  "nbformat_minor": 0
}
