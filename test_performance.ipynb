{
 "cells": [
  {
   "cell_type": "code",
   "execution_count": 1,
   "metadata": {},
   "outputs": [],
   "source": [
    "from assignment1 import string_distance as rust_string_distance\n",
    "from string import ascii_lowercase\n",
    "from random import choice, randint\n",
    "from time import time \n",
    "import ctypes"
   ]
  },
  {
   "cell_type": "code",
   "execution_count": 2,
   "metadata": {},
   "outputs": [],
   "source": [
    "def python_string_distance(a, b):\n",
    "    d = [[0 for _ in range(len(b) + 1)] for _ in range(len(a) + 1)]\n",
    "    for i in range(1, len(a) + 1): \n",
    "        for j in range(1, len(b) + 1): \n",
    "            cost = 1 if a[i - 1] != b[j - 1] else 0\n",
    "            d[i][j] = min(d[i][j-1] + 1, d[i-1][j] + 1, d[i-1][j-1] + cost)\n",
    "\n",
    "            if i > 1 and j > 1 and a[i-1] == b[j-2] and a[i-2] == b[j-1]: \n",
    "                d[i][j] = min(d[i][j], d[i-2][j-2] + 1)\n",
    "                \n",
    "    # print('\\n'.join(map(str, d)))\n",
    "    return d[len(a)][len(b)]\n",
    "\n",
    "class CWrapper:\n",
    "    def __init__(self):\n",
    "        self.lib = ctypes.CDLL(\"./libexample.so\")\n",
    "\n",
    "        self.lib.distance.argtypes = [ctypes.c_char_p, ctypes.c_char_p]\n",
    "        self.lib.distance.restype = ctypes.c_int\n",
    "\n",
    "    def __call__(self, a, b):\n",
    "        a_bytes = a.encode('utf-8')\n",
    "        b_bytes = b.encode('utf-8')\n",
    "\n",
    "        res = self.lib.distance(a_bytes, b_bytes)\n",
    "        return res\n",
    "    \n",
    "c_string_distance = CWrapper()  "
   ]
  },
  {
   "cell_type": "code",
   "execution_count": 3,
   "metadata": {},
   "outputs": [],
   "source": [
    "dataset = []\n",
    "for _ in range(1000): \n",
    "    len_a = randint(2, 1000)\n",
    "    len_b = randint(2, 1000)\n",
    "    \n",
    "    a = ''.join([choice(ascii_lowercase) for _ in range(len_a)])\n",
    "    b = ''.join([choice(ascii_lowercase) for _ in range(len_b)])\n",
    "    dataset.append((a, b))\n",
    "# dataset[:3]"
   ]
  },
  {
   "cell_type": "code",
   "execution_count": 4,
   "metadata": {},
   "outputs": [
    {
     "name": "stdout",
     "output_type": "stream",
     "text": [
      "Rust:      0.755 seconds\n",
      "C:           0.407 seconds\n",
      "\n",
      "Improvement of Rust: 0.00 times\n",
      "Improvement of C:       0.00 times\n",
      "\n",
      "C/Rust = 0.538\n"
     ]
    }
   ],
   "source": [
    "# for a, b in dataset:\n",
    "#     assert python_string_distance(a, b) == rust_string_distance(a, b) == c_string_distance(a, b)\n",
    "    \n",
    "python_time = 0\n",
    "# start = time()\n",
    "# for a, b in dataset: \n",
    "#     python_string_distance(a, b)    \n",
    "# python_time = time() - start\n",
    "# print(f'Python: {python_time:.3f} seconds')\n",
    "\n",
    "start = time()\n",
    "for a, b in dataset: \n",
    "    rust_string_distance(a, b)    \n",
    "rust_time = time() - start\n",
    "print(f'Rust:      {rust_time:.3f} seconds')\n",
    "\n",
    "start = time()\n",
    "for a, b in dataset: \n",
    "    c_string_distance(a, b)    \n",
    "c_time = time() - start\n",
    "print(f'C:           {c_time:.3f} seconds')\n",
    "\n",
    "print()\n",
    "print(f'Improvement of Rust: {python_time / rust_time:.2f} times')\n",
    "print(f'Improvement of C:       {python_time / c_time:.2f} times')\n",
    "\n",
    "print()\n",
    "print(f'C/Rust = {c_time/rust_time:.3f}')"
   ]
  }
 ],
 "metadata": {
  "kernelspec": {
   "display_name": "venv",
   "language": "python",
   "name": "python3"
  },
  "language_info": {
   "codemirror_mode": {
    "name": "ipython",
    "version": 3
   },
   "file_extension": ".py",
   "mimetype": "text/x-python",
   "name": "python",
   "nbconvert_exporter": "python",
   "pygments_lexer": "ipython3",
   "version": "3.12.7"
  }
 },
 "nbformat": 4,
 "nbformat_minor": 2
}
